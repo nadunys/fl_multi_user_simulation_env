{
 "cells": [
  {
   "cell_type": "code",
   "execution_count": 1,
   "metadata": {},
   "outputs": [],
   "source": [
    "import sys\n",
    "sys.path.append('../')\n",
    "from model import NextWordPredictor, train, test"
   ]
  },
  {
   "cell_type": "code",
   "execution_count": 2,
   "metadata": {},
   "outputs": [],
   "source": [
    "import pandas as pd\n",
    "import torch\n",
    "import torchtext.functional as F"
   ]
  },
  {
   "cell_type": "code",
   "execution_count": 3,
   "metadata": {},
   "outputs": [],
   "source": [
    "train_d = pd.read_csv('../data/stack_overflow/train.csv')\n",
    "test_d = pd.read_csv('../data/stack_overflow/test.csv')\n",
    "val_d = pd.read_csv('../data/stack_overflow/val.csv')"
   ]
  },
  {
   "cell_type": "code",
   "execution_count": 4,
   "metadata": {},
   "outputs": [],
   "source": [
    "train_sentence = train_d['text'][0]\n",
    "test_sentence = test_d['text'][0]\n",
    "val_sentence = val_d['text'][0]"
   ]
  },
  {
   "cell_type": "code",
   "execution_count": 5,
   "metadata": {},
   "outputs": [],
   "source": [
    "words1 = train_sentence.split()\n",
    "words2 = test_sentence.split()"
   ]
  },
  {
   "cell_type": "code",
   "execution_count": 6,
   "metadata": {},
   "outputs": [],
   "source": [
    "vocab = set(words1 + words2)"
   ]
  },
  {
   "cell_type": "code",
   "execution_count": 7,
   "metadata": {},
   "outputs": [],
   "source": [
    "word_to_index = { word: i for i, word in enumerate(vocab) }\n",
    "index_to_word = { i: word for word, i in word_to_index.items() }"
   ]
  },
  {
   "cell_type": "code",
   "execution_count": 8,
   "metadata": {},
   "outputs": [
    {
     "data": {
      "text/plain": [
       "7843"
      ]
     },
     "execution_count": 8,
     "metadata": {},
     "output_type": "execute_result"
    }
   ],
   "source": [
    "vocab_size = len(vocab)\n",
    "vocab_size"
   ]
  },
  {
   "cell_type": "code",
   "execution_count": 9,
   "metadata": {},
   "outputs": [],
   "source": [
    "indices1 = [word_to_index[word] for word in words1]\n",
    "indices2 = [word_to_index[word] for word in words2]"
   ]
  },
  {
   "cell_type": "code",
   "execution_count": 10,
   "metadata": {},
   "outputs": [],
   "source": [
    "train_data = torch.tensor(indices1 + indices2[:-1], dtype=torch.long).view(1, -1)  # Combine both sentences for training\n",
    "train_targets = torch.tensor(indices1[1:] + indices2, dtype=torch.long).view(1, -1)  # Targets are next words"
   ]
  },
  {
   "cell_type": "code",
   "execution_count": 11,
   "metadata": {},
   "outputs": [],
   "source": [
    "test_data = torch.tensor(indices2, dtype=torch.long).view(1, -1)  # Test sequence\n",
    "test_targets = torch.tensor(indices2, dtype=torch.long).view(1, -1)  # Test targets"
   ]
  },
  {
   "cell_type": "code",
   "execution_count": 12,
   "metadata": {},
   "outputs": [],
   "source": [
    "train_loader = torch.utils.data.DataLoader(torch.utils.data.TensorDataset(train_data, train_targets), batch_size=1)\n",
    "test_loader = torch.utils.data.DataLoader(torch.utils.data.TensorDataset(test_data, test_targets), batch_size=1)"
   ]
  },
  {
   "cell_type": "code",
   "execution_count": 13,
   "metadata": {},
   "outputs": [],
   "source": [
    "# Model parameters\n",
    "embedding_dim = 10\n",
    "hidden_dim = 10\n",
    "epochs = 100"
   ]
  },
  {
   "cell_type": "code",
   "execution_count": 14,
   "metadata": {},
   "outputs": [],
   "source": [
    "import torch.nn as nn\n",
    "import torch.optim as optim"
   ]
  },
  {
   "cell_type": "code",
   "execution_count": 15,
   "metadata": {},
   "outputs": [],
   "source": [
    "# Initialize model, criterion, and optimizer\n",
    "model = NextWordPredictor(vocab_size, embedding_dim, hidden_dim)\n",
    "criterion = nn.CrossEntropyLoss()\n",
    "optimizer = optim.Adam(model.parameters(), lr=0.01)"
   ]
  },
  {
   "cell_type": "code",
   "execution_count": 16,
   "metadata": {},
   "outputs": [
    {
     "name": "stderr",
     "output_type": "stream",
     "text": [
      "/home/nadun/Documents/projects/flower/.venv/lib/python3.10/site-packages/torch/autograd/__init__.py:266: UserWarning: CUDA initialization: CUDA unknown error - this may be due to an incorrectly set up environment, e.g. changing env variable CUDA_VISIBLE_DEVICES after program start. Setting the available devices to be zero. (Triggered internally at ../c10/cuda/CUDAFunctions.cpp:108.)\n",
      "  Variable._execution_engine.run_backward(  # Calls into the C++ engine to run the backward pass\n"
     ]
    },
    {
     "name": "stdout",
     "output_type": "stream",
     "text": [
      "Epoch 1/100, Loss: 8.989895820617676\n",
      "Epoch 2/100, Loss: 8.96225357055664\n",
      "Epoch 3/100, Loss: 8.932378768920898\n",
      "Epoch 4/100, Loss: 8.897782325744629\n",
      "Epoch 5/100, Loss: 8.85665225982666\n",
      "Epoch 6/100, Loss: 8.807570457458496\n",
      "Epoch 7/100, Loss: 8.749128341674805\n",
      "Epoch 8/100, Loss: 8.680109024047852\n",
      "Epoch 9/100, Loss: 8.59981632232666\n",
      "Epoch 10/100, Loss: 8.508410453796387\n",
      "Epoch 11/100, Loss: 8.407147407531738\n",
      "Epoch 12/100, Loss: 8.298277854919434\n",
      "Epoch 13/100, Loss: 8.184587478637695\n",
      "Epoch 14/100, Loss: 8.068978309631348\n",
      "Epoch 15/100, Loss: 7.954272270202637\n",
      "Epoch 16/100, Loss: 7.842989921569824\n",
      "Epoch 17/100, Loss: 7.737094402313232\n",
      "Epoch 18/100, Loss: 7.63785982131958\n",
      "Epoch 19/100, Loss: 7.5459303855896\n",
      "Epoch 20/100, Loss: 7.461393356323242\n",
      "Epoch 21/100, Loss: 7.383922100067139\n",
      "Epoch 22/100, Loss: 7.312985420227051\n",
      "Epoch 23/100, Loss: 7.248074531555176\n",
      "Epoch 24/100, Loss: 7.188785076141357\n",
      "Epoch 25/100, Loss: 7.134804725646973\n",
      "Epoch 26/100, Loss: 7.085860729217529\n",
      "Epoch 27/100, Loss: 7.041668891906738\n",
      "Epoch 28/100, Loss: 7.00191593170166\n",
      "Epoch 29/100, Loss: 6.966274261474609\n",
      "Epoch 30/100, Loss: 6.934452056884766\n",
      "Epoch 31/100, Loss: 6.906238079071045\n",
      "Epoch 32/100, Loss: 6.881502628326416\n",
      "Epoch 33/100, Loss: 6.860146522521973\n",
      "Epoch 34/100, Loss: 6.842045307159424\n",
      "Epoch 35/100, Loss: 6.826992988586426\n",
      "Epoch 36/100, Loss: 6.814703464508057\n",
      "Epoch 37/100, Loss: 6.804821968078613\n",
      "Epoch 38/100, Loss: 6.796966552734375\n",
      "Epoch 39/100, Loss: 6.7907490730285645\n",
      "Epoch 40/100, Loss: 6.785796165466309\n",
      "Epoch 41/100, Loss: 6.781773567199707\n",
      "Epoch 42/100, Loss: 6.7783966064453125\n",
      "Epoch 43/100, Loss: 6.775430202484131\n",
      "Epoch 44/100, Loss: 6.772701263427734\n",
      "Epoch 45/100, Loss: 6.77009391784668\n",
      "Epoch 46/100, Loss: 6.7675323486328125\n",
      "Epoch 47/100, Loss: 6.7649712562561035\n",
      "Epoch 48/100, Loss: 6.76239013671875\n",
      "Epoch 49/100, Loss: 6.759765625\n",
      "Epoch 50/100, Loss: 6.757092475891113\n",
      "Epoch 51/100, Loss: 6.754360198974609\n",
      "Epoch 52/100, Loss: 6.751572132110596\n",
      "Epoch 53/100, Loss: 6.748732566833496\n",
      "Epoch 54/100, Loss: 6.745858192443848\n",
      "Epoch 55/100, Loss: 6.7429704666137695\n",
      "Epoch 56/100, Loss: 6.7400898933410645\n",
      "Epoch 57/100, Loss: 6.737232685089111\n",
      "Epoch 58/100, Loss: 6.734407901763916\n",
      "Epoch 59/100, Loss: 6.731618881225586\n",
      "Epoch 60/100, Loss: 6.728859901428223\n",
      "Epoch 61/100, Loss: 6.726119518280029\n",
      "Epoch 62/100, Loss: 6.723381042480469\n",
      "Epoch 63/100, Loss: 6.720631122589111\n",
      "Epoch 64/100, Loss: 6.7178544998168945\n",
      "Epoch 65/100, Loss: 6.715038776397705\n",
      "Epoch 66/100, Loss: 6.712170600891113\n",
      "Epoch 67/100, Loss: 6.709245681762695\n",
      "Epoch 68/100, Loss: 6.706254959106445\n",
      "Epoch 69/100, Loss: 6.703198432922363\n",
      "Epoch 70/100, Loss: 6.700067043304443\n",
      "Epoch 71/100, Loss: 6.696863651275635\n",
      "Epoch 72/100, Loss: 6.6935834884643555\n",
      "Epoch 73/100, Loss: 6.6902241706848145\n",
      "Epoch 74/100, Loss: 6.6867852210998535\n",
      "Epoch 75/100, Loss: 6.68326473236084\n",
      "Epoch 76/100, Loss: 6.679660320281982\n",
      "Epoch 77/100, Loss: 6.675971984863281\n",
      "Epoch 78/100, Loss: 6.67219877243042\n",
      "Epoch 79/100, Loss: 6.668344497680664\n",
      "Epoch 80/100, Loss: 6.664405822753906\n",
      "Epoch 81/100, Loss: 6.660386085510254\n",
      "Epoch 82/100, Loss: 6.656288146972656\n",
      "Epoch 83/100, Loss: 6.652113914489746\n",
      "Epoch 84/100, Loss: 6.647865295410156\n",
      "Epoch 85/100, Loss: 6.643548011779785\n",
      "Epoch 86/100, Loss: 6.639162540435791\n",
      "Epoch 87/100, Loss: 6.634712219238281\n",
      "Epoch 88/100, Loss: 6.630198955535889\n",
      "Epoch 89/100, Loss: 6.625624656677246\n",
      "Epoch 90/100, Loss: 6.6209940910339355\n",
      "Epoch 91/100, Loss: 6.616306304931641\n",
      "Epoch 92/100, Loss: 6.611566066741943\n",
      "Epoch 93/100, Loss: 6.606770992279053\n",
      "Epoch 94/100, Loss: 6.601927757263184\n",
      "Epoch 95/100, Loss: 6.597036361694336\n",
      "Epoch 96/100, Loss: 6.592099189758301\n",
      "Epoch 97/100, Loss: 6.58712100982666\n",
      "Epoch 98/100, Loss: 6.582101821899414\n",
      "Epoch 99/100, Loss: 6.5770463943481445\n",
      "Epoch 100/100, Loss: 6.571957111358643\n"
     ]
    }
   ],
   "source": [
    "train(model, train_loader, criterion, optimizer, epochs)"
   ]
  },
  {
   "cell_type": "code",
   "execution_count": 17,
   "metadata": {},
   "outputs": [
    {
     "name": "stdout",
     "output_type": "stream",
     "text": [
      "Test Loss: 6.694679260253906\n"
     ]
    }
   ],
   "source": [
    "test(model, test_loader, criterion)"
   ]
  }
 ],
 "metadata": {
  "kernelspec": {
   "display_name": ".venv",
   "language": "python",
   "name": "python3"
  },
  "language_info": {
   "codemirror_mode": {
    "name": "ipython",
    "version": 3
   },
   "file_extension": ".py",
   "mimetype": "text/x-python",
   "name": "python",
   "nbconvert_exporter": "python",
   "pygments_lexer": "ipython3",
   "version": "3.10.12"
  }
 },
 "nbformat": 4,
 "nbformat_minor": 2
}
