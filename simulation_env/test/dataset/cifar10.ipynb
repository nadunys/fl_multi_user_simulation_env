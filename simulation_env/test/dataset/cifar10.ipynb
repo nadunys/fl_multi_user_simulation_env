{
 "cells": [
  {
   "cell_type": "code",
   "execution_count": 1,
   "metadata": {},
   "outputs": [],
   "source": [
    "import torchvision.transforms as transforms\n",
    "from torch.utils.data import DataLoader, Subset\n",
    "from torchvision.datasets import CIFAR10"
   ]
  },
  {
   "cell_type": "code",
   "execution_count": 2,
   "metadata": {},
   "outputs": [],
   "source": [
    "degrees = [0, 270]"
   ]
  },
  {
   "cell_type": "code",
   "execution_count": 3,
   "metadata": {},
   "outputs": [],
   "source": [
    "transform = transforms.Compose(\n",
    "        [transforms.ToTensor(),\n",
    "         transforms.Normalize((0.5, 0.5, 0.5), (0.5, 0.5, 0.5)),\n",
    "         transforms.RandomRotation(degrees)]\n",
    "    )"
   ]
  },
  {
   "cell_type": "code",
   "execution_count": 4,
   "metadata": {},
   "outputs": [
    {
     "name": "stdout",
     "output_type": "stream",
     "text": [
      "Files already downloaded and verified\n",
      "Files already downloaded and verified\n"
     ]
    }
   ],
   "source": [
    "trainset = CIFAR10(\".\", train=True, download=True, transform=transform)\n",
    "testset = CIFAR10(\".\", train=False, download=True, transform=transform)"
   ]
  },
  {
   "cell_type": "code",
   "execution_count": 5,
   "metadata": {},
   "outputs": [
    {
     "data": {
      "text/plain": [
       "50000"
      ]
     },
     "execution_count": 5,
     "metadata": {},
     "output_type": "execute_result"
    }
   ],
   "source": [
    "len(trainset)"
   ]
  },
  {
   "cell_type": "code",
   "execution_count": 11,
   "metadata": {},
   "outputs": [
    {
     "name": "stdout",
     "output_type": "stream",
     "text": [
      "range(0, 10)\n"
     ]
    }
   ],
   "source": [
    "print(range(10))"
   ]
  },
  {
   "cell_type": "code",
   "execution_count": 18,
   "metadata": {},
   "outputs": [],
   "source": [
    "start = 0\n",
    "user_size = 10\n",
    "devices_per_user = 3\n",
    "dataset_size = len(trainset) // (user_size * devices_per_user)\n",
    "trainloaders = []\n",
    "testloaders = []\n",
    "\n",
    "for i in range(1, user_size*devices_per_user+1):\n",
    "    indices = list(range(start, start+dataset_size))\n",
    "    start = start + dataset_size\n",
    "    subset = Subset(trainset, indices)\n",
    "    trainloader = DataLoader(subset, batch_size=32, shuffle=True)\n",
    "    trainloaders.append(trainloader)\n",
    "\n",
    "start = 0\n",
    "dataset_size = len(testset) // (user_size * devices_per_user)\n",
    "\n",
    "for i in range(1, user_size*devices_per_user+1):\n",
    "    indices = list(range(start, start+dataset_size))\n",
    "    start = start + dataset_size\n",
    "    subset = Subset(testset, indices)\n",
    "    testloader = DataLoader(subset, batch_size=32, shuffle=True)\n",
    "    testloaders.append(testloader)\n"
   ]
  },
  {
   "cell_type": "code",
   "execution_count": 20,
   "metadata": {},
   "outputs": [],
   "source": [
    "dataset = []\n",
    "\n",
    "for i in range(1, user_size*devices_per_user + 1):\n",
    "    dataset.append({\n",
    "        'user_id': i//user_size,\n",
    "        'train': trainloaders[i-1],\n",
    "        'test': testloaders[i-1]\n",
    "    })\n"
   ]
  },
  {
   "cell_type": "code",
   "execution_count": 21,
   "metadata": {},
   "outputs": [
    {
     "data": {
      "text/plain": [
       "[{'user_id': 0,\n",
       "  'train': <torch.utils.data.dataloader.DataLoader at 0x76d03c3b8fd0>,\n",
       "  'test': <torch.utils.data.dataloader.DataLoader at 0x76d03c3d6cb0>},\n",
       " {'user_id': 0,\n",
       "  'train': <torch.utils.data.dataloader.DataLoader at 0x76d03c41f670>,\n",
       "  'test': <torch.utils.data.dataloader.DataLoader at 0x76d03c3bc490>},\n",
       " {'user_id': 0,\n",
       "  'train': <torch.utils.data.dataloader.DataLoader at 0x76d03c41fd60>,\n",
       "  'test': <torch.utils.data.dataloader.DataLoader at 0x76d03c3d6dd0>},\n",
       " {'user_id': 0,\n",
       "  'train': <torch.utils.data.dataloader.DataLoader at 0x76d03c41c880>,\n",
       "  'test': <torch.utils.data.dataloader.DataLoader at 0x76d03c3d6e60>},\n",
       " {'user_id': 0,\n",
       "  'train': <torch.utils.data.dataloader.DataLoader at 0x76d03c41f490>,\n",
       "  'test': <torch.utils.data.dataloader.DataLoader at 0x76d03c3d6fb0>},\n",
       " {'user_id': 0,\n",
       "  'train': <torch.utils.data.dataloader.DataLoader at 0x76d03c41fc10>,\n",
       "  'test': <torch.utils.data.dataloader.DataLoader at 0x76d03c3d7100>},\n",
       " {'user_id': 0,\n",
       "  'train': <torch.utils.data.dataloader.DataLoader at 0x76d03c41feb0>,\n",
       "  'test': <torch.utils.data.dataloader.DataLoader at 0x76d03c3d7c70>},\n",
       " {'user_id': 0,\n",
       "  'train': <torch.utils.data.dataloader.DataLoader at 0x76d02eebc1c0>,\n",
       "  'test': <torch.utils.data.dataloader.DataLoader at 0x76d03c3d7850>},\n",
       " {'user_id': 0,\n",
       "  'train': <torch.utils.data.dataloader.DataLoader at 0x76d02eebd540>,\n",
       "  'test': <torch.utils.data.dataloader.DataLoader at 0x76d03c3d79a0>},\n",
       " {'user_id': 1,\n",
       "  'train': <torch.utils.data.dataloader.DataLoader at 0x76d02eebed10>,\n",
       "  'test': <torch.utils.data.dataloader.DataLoader at 0x76d03c3d7970>},\n",
       " {'user_id': 1,\n",
       "  'train': <torch.utils.data.dataloader.DataLoader at 0x76d02eea56c0>,\n",
       "  'test': <torch.utils.data.dataloader.DataLoader at 0x76d03c3d7760>},\n",
       " {'user_id': 1,\n",
       "  'train': <torch.utils.data.dataloader.DataLoader at 0x76d02eea47c0>,\n",
       "  'test': <torch.utils.data.dataloader.DataLoader at 0x76d03c3d75b0>},\n",
       " {'user_id': 1,\n",
       "  'train': <torch.utils.data.dataloader.DataLoader at 0x76d02ef0b0a0>,\n",
       "  'test': <torch.utils.data.dataloader.DataLoader at 0x76d03c3d73a0>},\n",
       " {'user_id': 1,\n",
       "  'train': <torch.utils.data.dataloader.DataLoader at 0x76d02ef099f0>,\n",
       "  'test': <torch.utils.data.dataloader.DataLoader at 0x76d03c3d7e50>},\n",
       " {'user_id': 1,\n",
       "  'train': <torch.utils.data.dataloader.DataLoader at 0x76d030865240>,\n",
       "  'test': <torch.utils.data.dataloader.DataLoader at 0x76d03c3d7310>},\n",
       " {'user_id': 1,\n",
       "  'train': <torch.utils.data.dataloader.DataLoader at 0x76d030865600>,\n",
       "  'test': <torch.utils.data.dataloader.DataLoader at 0x76d03c4ebbe0>},\n",
       " {'user_id': 1,\n",
       "  'train': <torch.utils.data.dataloader.DataLoader at 0x76d03c3bddb0>,\n",
       "  'test': <torch.utils.data.dataloader.DataLoader at 0x76d03c4eb9a0>},\n",
       " {'user_id': 1,\n",
       "  'train': <torch.utils.data.dataloader.DataLoader at 0x76d03c3bc1f0>,\n",
       "  'test': <torch.utils.data.dataloader.DataLoader at 0x76d03c4e9660>},\n",
       " {'user_id': 1,\n",
       "  'train': <torch.utils.data.dataloader.DataLoader at 0x76d03c3bc100>,\n",
       "  'test': <torch.utils.data.dataloader.DataLoader at 0x76d03c4eb850>},\n",
       " {'user_id': 2,\n",
       "  'train': <torch.utils.data.dataloader.DataLoader at 0x76d03c3bc0d0>,\n",
       "  'test': <torch.utils.data.dataloader.DataLoader at 0x76d03c4e8d00>},\n",
       " {'user_id': 2,\n",
       "  'train': <torch.utils.data.dataloader.DataLoader at 0x76d03c3bc220>,\n",
       "  'test': <torch.utils.data.dataloader.DataLoader at 0x76d03c4e8c10>},\n",
       " {'user_id': 2,\n",
       "  'train': <torch.utils.data.dataloader.DataLoader at 0x76d03c3bc370>,\n",
       "  'test': <torch.utils.data.dataloader.DataLoader at 0x76d03c4ebc10>},\n",
       " {'user_id': 2,\n",
       "  'train': <torch.utils.data.dataloader.DataLoader at 0x76d03c3bd570>,\n",
       "  'test': <torch.utils.data.dataloader.DataLoader at 0x76d03c4ebca0>},\n",
       " {'user_id': 2,\n",
       "  'train': <torch.utils.data.dataloader.DataLoader at 0x76d03c3bcee0>,\n",
       "  'test': <torch.utils.data.dataloader.DataLoader at 0x76d03c4ebee0>},\n",
       " {'user_id': 2,\n",
       "  'train': <torch.utils.data.dataloader.DataLoader at 0x76d03c3be4a0>,\n",
       "  'test': <torch.utils.data.dataloader.DataLoader at 0x76d03c4e9a20>},\n",
       " {'user_id': 2,\n",
       "  'train': <torch.utils.data.dataloader.DataLoader at 0x76d03c3be680>,\n",
       "  'test': <torch.utils.data.dataloader.DataLoader at 0x76d03c3b5c00>},\n",
       " {'user_id': 2,\n",
       "  'train': <torch.utils.data.dataloader.DataLoader at 0x76d03c3be710>,\n",
       "  'test': <torch.utils.data.dataloader.DataLoader at 0x76d03c3b5450>},\n",
       " {'user_id': 2,\n",
       "  'train': <torch.utils.data.dataloader.DataLoader at 0x76d03c3d7280>,\n",
       "  'test': <torch.utils.data.dataloader.DataLoader at 0x76d03c3b45e0>},\n",
       " {'user_id': 2,\n",
       "  'train': <torch.utils.data.dataloader.DataLoader at 0x76d03c3d6aa0>,\n",
       "  'test': <torch.utils.data.dataloader.DataLoader at 0x76d03c3b4670>},\n",
       " {'user_id': 3,\n",
       "  'train': <torch.utils.data.dataloader.DataLoader at 0x76d03c3d6b60>,\n",
       "  'test': <torch.utils.data.dataloader.DataLoader at 0x76d03c3b49d0>}]"
      ]
     },
     "execution_count": 21,
     "metadata": {},
     "output_type": "execute_result"
    }
   ],
   "source": [
    "dataset"
   ]
  },
  {
   "cell_type": "code",
   "execution_count": null,
   "metadata": {},
   "outputs": [],
   "source": []
  }
 ],
 "metadata": {
  "kernelspec": {
   "display_name": ".venv",
   "language": "python",
   "name": "python3"
  },
  "language_info": {
   "codemirror_mode": {
    "name": "ipython",
    "version": 3
   },
   "file_extension": ".py",
   "mimetype": "text/x-python",
   "name": "python",
   "nbconvert_exporter": "python",
   "pygments_lexer": "ipython3",
   "version": "3.10.12"
  }
 },
 "nbformat": 4,
 "nbformat_minor": 2
}
