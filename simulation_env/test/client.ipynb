{
 "cells": [
  {
   "cell_type": "code",
   "execution_count": 6,
   "metadata": {},
   "outputs": [
    {
     "name": "stderr",
     "output_type": "stream",
     "text": [
      "/home/nadun/Documents/projects/flower/.venv/lib/python3.10/site-packages/tqdm/auto.py:21: TqdmWarning: IProgress not found. Please update jupyter and ipywidgets. See https://ipywidgets.readthedocs.io/en/stable/user_install.html\n",
      "  from .autonotebook import tqdm as notebook_tqdm\n",
      "2024-03-17 17:32:44,062\tINFO util.py:159 -- Missing packages: ['ipywidgets']. Run `pip install -U ipywidgets`, then restart the notebook server for rich notebook output.\n"
     ]
    }
   ],
   "source": [
    "import sys\n",
    "sys.path.append('../')\n",
    "from dataset import get_dataset\n",
    "from client import generate_client_fn"
   ]
  },
  {
   "cell_type": "code",
   "execution_count": 7,
   "metadata": {},
   "outputs": [],
   "source": [
    "train, test, val = get_dataset()"
   ]
  },
  {
   "cell_type": "code",
   "execution_count": 15,
   "metadata": {},
   "outputs": [
    {
     "data": {
      "text/html": [
       "<div>\n",
       "<style scoped>\n",
       "    .dataframe tbody tr th:only-of-type {\n",
       "        vertical-align: middle;\n",
       "    }\n",
       "\n",
       "    .dataframe tbody tr th {\n",
       "        vertical-align: top;\n",
       "    }\n",
       "\n",
       "    .dataframe thead th {\n",
       "        text-align: right;\n",
       "    }\n",
       "</style>\n",
       "<table border=\"1\" class=\"dataframe\">\n",
       "  <thead>\n",
       "    <tr style=\"text-align: right;\">\n",
       "      <th></th>\n",
       "      <th>train_loader</th>\n",
       "      <th>test_loader</th>\n",
       "      <th>user_id</th>\n",
       "    </tr>\n",
       "  </thead>\n",
       "  <tbody>\n",
       "    <tr>\n",
       "      <th>0</th>\n",
       "      <td>([[tensor([ 563, 4532, 1869,  ..., 2742, 5099,...</td>\n",
       "      <td>([[tensor([5657, 3961, 6630,  ..., 2742, 5099,...</td>\n",
       "      <td>21.0</td>\n",
       "    </tr>\n",
       "    <tr>\n",
       "      <th>1</th>\n",
       "      <td>([[tensor([1649, 2941, 2451,  ..., 6002, 5748,...</td>\n",
       "      <td>([[tensor([5516, 2646, 2838,  ..., 6002, 5748,...</td>\n",
       "      <td>21.0</td>\n",
       "    </tr>\n",
       "    <tr>\n",
       "      <th>2</th>\n",
       "      <td>([[tensor([4585, 1710, 3570,  ..., 3187,  611,...</td>\n",
       "      <td>([[tensor([4145, 5704, 3635,  ..., 3187,  611,...</td>\n",
       "      <td>21.0</td>\n",
       "    </tr>\n",
       "    <tr>\n",
       "      <th>3</th>\n",
       "      <td>([[tensor([ 675, 1070, 1047,  ..., 1865, 1616,...</td>\n",
       "      <td>([[tensor([ 975, 1422,  704,  ..., 1865, 1616,...</td>\n",
       "      <td>24.0</td>\n",
       "    </tr>\n",
       "    <tr>\n",
       "      <th>4</th>\n",
       "      <td>([[tensor([1383, 1437,  430,  ...,  991,  225,...</td>\n",
       "      <td>([[tensor([608, 143, 915,  ..., 991, 225, 991]...</td>\n",
       "      <td>24.0</td>\n",
       "    </tr>\n",
       "  </tbody>\n",
       "</table>\n",
       "</div>"
      ],
      "text/plain": [
       "                                        train_loader  \\\n",
       "0  ([[tensor([ 563, 4532, 1869,  ..., 2742, 5099,...   \n",
       "1  ([[tensor([1649, 2941, 2451,  ..., 6002, 5748,...   \n",
       "2  ([[tensor([4585, 1710, 3570,  ..., 3187,  611,...   \n",
       "3  ([[tensor([ 675, 1070, 1047,  ..., 1865, 1616,...   \n",
       "4  ([[tensor([1383, 1437,  430,  ...,  991,  225,...   \n",
       "\n",
       "                                         test_loader  user_id  \n",
       "0  ([[tensor([5657, 3961, 6630,  ..., 2742, 5099,...     21.0  \n",
       "1  ([[tensor([5516, 2646, 2838,  ..., 6002, 5748,...     21.0  \n",
       "2  ([[tensor([4145, 5704, 3635,  ..., 3187,  611,...     21.0  \n",
       "3  ([[tensor([ 975, 1422,  704,  ..., 1865, 1616,...     24.0  \n",
       "4  ([[tensor([608, 143, 915,  ..., 991, 225, 991]...     24.0  "
      ]
     },
     "execution_count": 15,
     "metadata": {},
     "output_type": "execute_result"
    }
   ],
   "source": [
    "train.head()"
   ]
  },
  {
   "cell_type": "code",
   "execution_count": 16,
   "metadata": {},
   "outputs": [
    {
     "data": {
      "text/plain": [
       "array([<torch.utils.data.dataloader.DataLoader object at 0x7ff74eb9b4c0>,\n",
       "       <torch.utils.data.dataloader.DataLoader object at 0x7ff74eb9b1c0>,\n",
       "       21.0], dtype=object)"
      ]
     },
     "execution_count": 16,
     "metadata": {},
     "output_type": "execute_result"
    }
   ],
   "source": [
    "train.values[0]"
   ]
  },
  {
   "cell_type": "code",
   "execution_count": 17,
   "metadata": {},
   "outputs": [],
   "source": [
    "client_fn = generate_client_fn(train.values)"
   ]
  },
  {
   "cell_type": "code",
   "execution_count": 18,
   "metadata": {},
   "outputs": [
    {
     "data": {
      "text/plain": [
       "24.0"
      ]
     },
     "execution_count": 18,
     "metadata": {},
     "output_type": "execute_result"
    }
   ],
   "source": [
    "train.values[5][2]"
   ]
  },
  {
   "cell_type": "code",
   "execution_count": null,
   "metadata": {},
   "outputs": [],
   "source": []
  }
 ],
 "metadata": {
  "kernelspec": {
   "display_name": ".venv",
   "language": "python",
   "name": "python3"
  },
  "language_info": {
   "codemirror_mode": {
    "name": "ipython",
    "version": 3
   },
   "file_extension": ".py",
   "mimetype": "text/x-python",
   "name": "python",
   "nbconvert_exporter": "python",
   "pygments_lexer": "ipython3",
   "version": "3.10.12"
  }
 },
 "nbformat": 4,
 "nbformat_minor": 2
}
