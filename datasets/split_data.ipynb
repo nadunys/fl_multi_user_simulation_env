{
 "cells": [
  {
   "cell_type": "code",
   "execution_count": 1,
   "metadata": {},
   "outputs": [],
   "source": [
    "import pandas as pd\n",
    "from sklearn.model_selection import train_test_split"
   ]
  },
  {
   "cell_type": "code",
   "execution_count": 2,
   "metadata": {},
   "outputs": [],
   "source": [
    "# read data\n",
    "df = pd.read_csv('stack_overflow.csv')"
   ]
  },
  {
   "cell_type": "code",
   "execution_count": 3,
   "metadata": {},
   "outputs": [],
   "source": [
    "train_data = []\n",
    "test_data = []\n",
    "val_data = []"
   ]
  },
  {
   "cell_type": "code",
   "execution_count": 4,
   "metadata": {},
   "outputs": [
    {
     "data": {
      "text/html": [
       "<div>\n",
       "<style scoped>\n",
       "    .dataframe tbody tr th:only-of-type {\n",
       "        vertical-align: middle;\n",
       "    }\n",
       "\n",
       "    .dataframe tbody tr th {\n",
       "        vertical-align: top;\n",
       "    }\n",
       "\n",
       "    .dataframe thead th {\n",
       "        text-align: right;\n",
       "    }\n",
       "</style>\n",
       "<table border=\"1\" class=\"dataframe\">\n",
       "  <thead>\n",
       "    <tr style=\"text-align: right;\">\n",
       "      <th></th>\n",
       "      <th>Unnamed: 0</th>\n",
       "      <th>User</th>\n",
       "      <th>Text</th>\n",
       "    </tr>\n",
       "  </thead>\n",
       "  <tbody>\n",
       "    <tr>\n",
       "      <th>0</th>\n",
       "      <td>0</td>\n",
       "      <td>23.0</td>\n",
       "      <td>&lt;p&gt;Yo tengo el Visual Studio en inglés así que...</td>\n",
       "    </tr>\n",
       "    <tr>\n",
       "      <th>1</th>\n",
       "      <td>1</td>\n",
       "      <td>21.0</td>\n",
       "      <td>&lt;p&gt;El formato es sencillo y estándar.&lt;/p&gt; &lt;p&gt;E...</td>\n",
       "    </tr>\n",
       "    <tr>\n",
       "      <th>2</th>\n",
       "      <td>2</td>\n",
       "      <td>24.0</td>\n",
       "      <td>&lt;p&gt;o yo no entendi bien o su programa hace lo ...</td>\n",
       "    </tr>\n",
       "    <tr>\n",
       "      <th>3</th>\n",
       "      <td>3</td>\n",
       "      <td>25.0</td>\n",
       "      <td>&lt;p&gt;Una forma fácil seria tener un event handle...</td>\n",
       "    </tr>\n",
       "    <tr>\n",
       "      <th>4</th>\n",
       "      <td>4</td>\n",
       "      <td>20.0</td>\n",
       "      <td>&lt;p&gt;De la misma manera que arriba tienes un &lt;co...</td>\n",
       "    </tr>\n",
       "  </tbody>\n",
       "</table>\n",
       "</div>"
      ],
      "text/plain": [
       "   Unnamed: 0  User                                               Text\n",
       "0           0  23.0  <p>Yo tengo el Visual Studio en inglés así que...\n",
       "1           1  21.0  <p>El formato es sencillo y estándar.</p> <p>E...\n",
       "2           2  24.0  <p>o yo no entendi bien o su programa hace lo ...\n",
       "3           3  25.0  <p>Una forma fácil seria tener un event handle...\n",
       "4           4  20.0  <p>De la misma manera que arriba tienes un <co..."
      ]
     },
     "execution_count": 4,
     "metadata": {},
     "output_type": "execute_result"
    }
   ],
   "source": [
    "df.head()"
   ]
  },
  {
   "cell_type": "code",
   "execution_count": 6,
   "metadata": {},
   "outputs": [],
   "source": [
    "for i, row in df.iterrows():\n",
    "    data = row['Text'].split(\" \")\n",
    "    user_id = row['User']\n",
    "    try:\n",
    "        train, test = train_test_split(data, test_size=0.1)\n",
    "        test, val = train_test_split(test, test_size=0.2)\n",
    "        \n",
    "        if len(val) > 50 :\n",
    "            div = len(train) // 3\n",
    "            start_index = 0\n",
    "            for i in range(1, 4):\n",
    "                end_index = len(train) if i==3 else div*i    \n",
    "                train_data.append({\n",
    "                    \"label\": user_id,\n",
    "                    \"text\": \" \".join(train[start_index:end_index])\n",
    "                })\n",
    "                start_index = end_index\n",
    "\n",
    "            test_data.append({\n",
    "                \"label\": user_id,\n",
    "                \"text\": \" \".join(test)\n",
    "            })\n",
    "\n",
    "            val_data.append({\n",
    "                \"label\": user_id,\n",
    "                \"text\": \" \".join(val)\n",
    "            })\n",
    "    except:\n",
    "        len(data)"
   ]
  },
  {
   "cell_type": "code",
   "execution_count": 7,
   "metadata": {},
   "outputs": [],
   "source": [
    "train_df = pd.DataFrame(train_data, columns=['label', 'text'])\n",
    "test_df = pd.DataFrame(test_data, columns=['label', 'text'])\n",
    "val_df = pd.DataFrame(val_data, columns=['label', 'text'])"
   ]
  },
  {
   "cell_type": "code",
   "execution_count": 8,
   "metadata": {},
   "outputs": [],
   "source": [
    "train_df.to_csv('/home/nadun/Documents/projects/flower/simulation_env/data/stack_overflow/train.csv')\n",
    "test_df.to_csv('/home/nadun/Documents/projects/flower/simulation_env/data/stack_overflow/test.csv')\n",
    "val_df.to_csv('/home/nadun/Documents/projects/flower/simulation_env/data/stack_overflow/val.csv')"
   ]
  },
  {
   "cell_type": "code",
   "execution_count": 9,
   "metadata": {},
   "outputs": [
    {
     "data": {
      "text/plain": [
       "(7116, 2)"
      ]
     },
     "execution_count": 9,
     "metadata": {},
     "output_type": "execute_result"
    }
   ],
   "source": [
    "train_df.shape"
   ]
  },
  {
   "cell_type": "code",
   "execution_count": 9,
   "metadata": {},
   "outputs": [
    {
     "data": {
      "text/plain": [
       "(1, 2)"
      ]
     },
     "execution_count": 9,
     "metadata": {},
     "output_type": "execute_result"
    }
   ],
   "source": [
    "test_df.shape"
   ]
  },
  {
   "cell_type": "code",
   "execution_count": 10,
   "metadata": {},
   "outputs": [
    {
     "data": {
      "text/plain": [
       "(1, 2)"
      ]
     },
     "execution_count": 10,
     "metadata": {},
     "output_type": "execute_result"
    }
   ],
   "source": [
    "val_df.shape"
   ]
  }
 ],
 "metadata": {
  "kernelspec": {
   "display_name": "flower_env",
   "language": "python",
   "name": "python3"
  },
  "language_info": {
   "codemirror_mode": {
    "name": "ipython",
    "version": 3
   },
   "file_extension": ".py",
   "mimetype": "text/x-python",
   "name": "python",
   "nbconvert_exporter": "python",
   "pygments_lexer": "ipython3",
   "version": "3.9.18"
  }
 },
 "nbformat": 4,
 "nbformat_minor": 2
}
