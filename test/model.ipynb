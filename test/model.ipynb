{
 "cells": [
  {
   "cell_type": "code",
   "execution_count": 1,
   "metadata": {},
   "outputs": [],
   "source": [
    "import sys\n",
    "import os\n",
    "import copy\n",
    "sys.path.append('../')\n",
    "from model import NextWordPredictor, train, test"
   ]
  },
  {
   "cell_type": "code",
   "execution_count": 2,
   "metadata": {},
   "outputs": [],
   "source": [
    "import pandas as pd\n",
    "import torch\n",
    "import torchtext.functional as F"
   ]
  },
  {
   "cell_type": "code",
   "execution_count": 3,
   "metadata": {},
   "outputs": [],
   "source": [
    "train_d = pd.read_csv('../data/stack_overflow/train.csv')\n",
    "test_d = pd.read_csv('../data/stack_overflow/test.csv')\n",
    "val_d = pd.read_csv('../data/stack_overflow/val.csv')"
   ]
  },
  {
   "cell_type": "code",
   "execution_count": 4,
   "metadata": {},
   "outputs": [],
   "source": [
    "train_sentence = train_d['text'][0]\n",
    "test_sentence = test_d['text'][0]\n",
    "val_sentence = val_d['text'][0]"
   ]
  },
  {
   "cell_type": "code",
   "execution_count": 5,
   "metadata": {},
   "outputs": [],
   "source": [
    "words1 = train_sentence.split()\n",
    "words2 = test_sentence.split()"
   ]
  },
  {
   "cell_type": "code",
   "execution_count": 6,
   "metadata": {},
   "outputs": [],
   "source": [
    "vocab = set(words1 + words2)"
   ]
  },
  {
   "cell_type": "code",
   "execution_count": 7,
   "metadata": {},
   "outputs": [],
   "source": [
    "word_to_index = { word: i for i, word in enumerate(vocab) }\n",
    "index_to_word = { i: word for word, i in word_to_index.items() }"
   ]
  },
  {
   "cell_type": "code",
   "execution_count": 8,
   "metadata": {},
   "outputs": [
    {
     "data": {
      "text/plain": [
       "7843"
      ]
     },
     "execution_count": 8,
     "metadata": {},
     "output_type": "execute_result"
    }
   ],
   "source": [
    "vocab_size = len(vocab)\n",
    "vocab_size"
   ]
  },
  {
   "cell_type": "code",
   "execution_count": 9,
   "metadata": {},
   "outputs": [],
   "source": [
    "indices1 = [word_to_index[word] for word in words1]\n",
    "indices2 = [word_to_index[word] for word in words2]"
   ]
  },
  {
   "cell_type": "code",
   "execution_count": 10,
   "metadata": {},
   "outputs": [],
   "source": [
    "train_data = torch.tensor(indices1 + indices2, dtype=torch.long).view(1, -1)  # Combine both sentences for training\n",
    "train_targets = torch.tensor(indices1 + indices2, dtype=torch.long).view(1, -1)  # Targets are next words"
   ]
  },
  {
   "cell_type": "code",
   "execution_count": 11,
   "metadata": {},
   "outputs": [],
   "source": [
    "test_data = torch.tensor(indices2, dtype=torch.long).view(1, -1)  # Test sequence\n",
    "test_targets = torch.tensor(indices2, dtype=torch.long).view(1, -1)  # Test targets"
   ]
  },
  {
   "cell_type": "code",
   "execution_count": 12,
   "metadata": {},
   "outputs": [],
   "source": [
    "train_loader = torch.utils.data.DataLoader(torch.utils.data.TensorDataset(train_data, train_targets), batch_size=1)\n",
    "test_loader = torch.utils.data.DataLoader(torch.utils.data.TensorDataset(test_data, test_targets), batch_size=1)"
   ]
  },
  {
   "cell_type": "code",
   "execution_count": 13,
   "metadata": {},
   "outputs": [],
   "source": [
    "# Model parameters\n",
    "embedding_dim = 100\n",
    "hidden_dim = 128\n",
    "epochs = 10"
   ]
  },
  {
   "cell_type": "code",
   "execution_count": 14,
   "metadata": {},
   "outputs": [],
   "source": [
    "import torch.nn as nn\n",
    "import torch.optim as optim"
   ]
  },
  {
   "cell_type": "code",
   "execution_count": 18,
   "metadata": {},
   "outputs": [],
   "source": [
    "# Initialize model, criterion, and optimizer\n",
    "model = NextWordPredictor(10, embedding_dim, hidden_dim)\n",
    "criterion = nn.CrossEntropyLoss()\n",
    "optimizer = optim.Adam(model.parameters(), lr=0.01)"
   ]
  },
  {
   "cell_type": "code",
   "execution_count": 19,
   "metadata": {},
   "outputs": [
    {
     "name": "stderr",
     "output_type": "stream",
     "text": [
      "/home/nadun/Documents/projects/flower/.venv/lib/python3.10/site-packages/torch/autograd/__init__.py:266: UserWarning: CUDA initialization: CUDA unknown error - this may be due to an incorrectly set up environment, e.g. changing env variable CUDA_VISIBLE_DEVICES after program start. Setting the available devices to be zero. (Triggered internally at ../c10/cuda/CUDAFunctions.cpp:108.)\n",
      "  Variable._execution_engine.run_backward(  # Calls into the C++ engine to run the backward pass\n"
     ]
    },
    {
     "name": "stdout",
     "output_type": "stream",
     "text": [
      "Epoch 1/10, Loss: 9.21760082244873\n",
      "Epoch 2/10, Loss: 8.915006637573242\n",
      "Epoch 3/10, Loss: 8.49959945678711\n",
      "Epoch 4/10, Loss: 7.621667861938477\n",
      "Epoch 5/10, Loss: 6.866685390472412\n",
      "Epoch 6/10, Loss: 6.191314697265625\n",
      "Epoch 7/10, Loss: 5.710676670074463\n",
      "Epoch 8/10, Loss: 5.361766338348389\n",
      "Epoch 9/10, Loss: 5.057620525360107\n",
      "Epoch 10/10, Loss: 4.764069080352783\n"
     ]
    },
    {
     "data": {
      "text/plain": [
       "4.764069080352783"
      ]
     },
     "execution_count": 19,
     "metadata": {},
     "output_type": "execute_result"
    }
   ],
   "source": [
    "train(model, train_loader, criterion, optimizer, epochs)"
   ]
  },
  {
   "cell_type": "code",
   "execution_count": 20,
   "metadata": {},
   "outputs": [
    {
     "data": {
      "text/plain": [
       "4.433952331542969"
      ]
     },
     "execution_count": 20,
     "metadata": {},
     "output_type": "execute_result"
    }
   ],
   "source": [
    "test(model, test_loader, criterion)"
   ]
  },
  {
   "cell_type": "code",
   "execution_count": 21,
   "metadata": {},
   "outputs": [],
   "source": [
    "path = '../results/test'\n",
    "if not os.path.exists(path):\n",
    "    os.makedirs(path)\n",
    "\n",
    "torch.save(model.state_dict(), f'{path}/model.pth')"
   ]
  },
  {
   "cell_type": "code",
   "execution_count": 24,
   "metadata": {},
   "outputs": [
    {
     "data": {
      "text/plain": [
       "NextWordPredictor(\n",
       "  (embedding): Embedding(10000, 100)\n",
       "  (rnn): LSTM(100, 128, batch_first=True)\n",
       "  (fc): Linear(in_features=128, out_features=10000, bias=True)\n",
       ")"
      ]
     },
     "execution_count": 24,
     "metadata": {},
     "output_type": "execute_result"
    }
   ],
   "source": [
    "another_model = NextWordPredictor(vocab_size, 100, 128)\n",
    "another_model"
   ]
  },
  {
   "cell_type": "code",
   "execution_count": 23,
   "metadata": {},
   "outputs": [
    {
     "data": {
      "text/plain": [
       "NextWordPredictor(\n",
       "  (embedding): Embedding(10000, 100)\n",
       "  (rnn): LSTM(100, 128, batch_first=True)\n",
       "  (fc): Linear(in_features=128, out_features=10000, bias=True)\n",
       ")"
      ]
     },
     "execution_count": 23,
     "metadata": {},
     "output_type": "execute_result"
    }
   ],
   "source": [
    "model"
   ]
  },
  {
   "cell_type": "code",
   "execution_count": 25,
   "metadata": {},
   "outputs": [
    {
     "name": "stdout",
     "output_type": "stream",
     "text": [
      "NextWordPredictor(\n",
      "  (embedding): Embedding(10000, 100)\n",
      "  (rnn): LSTM(100, 128, batch_first=True)\n",
      "  (fc): Linear(in_features=128, out_features=10000, bias=True)\n",
      ")\n"
     ]
    }
   ],
   "source": [
    "model_path = f'{path}/model.pth'\n",
    "\n",
    "if os.path.exists(model_path):\n",
    "    new_model = copy.deepcopy(another_model)\n",
    "    new_model.load_state_dict(torch.load(model_path))\n",
    "    print(new_model)"
   ]
  },
  {
   "cell_type": "code",
   "execution_count": 26,
   "metadata": {},
   "outputs": [
    {
     "data": {
      "text/plain": [
       "4.433952331542969"
      ]
     },
     "execution_count": 26,
     "metadata": {},
     "output_type": "execute_result"
    }
   ],
   "source": [
    "test(new_model, test_loader, criterion)"
   ]
  },
  {
   "cell_type": "code",
   "execution_count": null,
   "metadata": {},
   "outputs": [],
   "source": []
  }
 ],
 "metadata": {
  "kernelspec": {
   "display_name": ".venv",
   "language": "python",
   "name": "python3"
  },
  "language_info": {
   "codemirror_mode": {
    "name": "ipython",
    "version": 3
   },
   "file_extension": ".py",
   "mimetype": "text/x-python",
   "name": "python",
   "nbconvert_exporter": "python",
   "pygments_lexer": "ipython3",
   "version": "3.10.12"
  }
 },
 "nbformat": 4,
 "nbformat_minor": 2
}
